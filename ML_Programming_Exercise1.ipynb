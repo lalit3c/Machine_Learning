{
 "cells": [
  {
   "cell_type": "code",
   "execution_count": 19,
   "metadata": {},
   "outputs": [
    {
     "data": {
      "text/plain": [
       "1.03125"
      ]
     },
     "execution_count": 19,
     "metadata": {},
     "output_type": "execute_result"
    }
   ],
   "source": [
    "import numpy as np\n",
    "\n",
    "\n",
    "a = np.array([1,1,0])\n",
    "b = np.array([-1,2,5])\n",
    "M = np.array([[2,-1,0],\n",
    "            [-1,2,-1],\n",
    "            [0,-1,2]])\n",
    "9/32+3/4\n"
   ]
  },
  {
   "cell_type": "code",
   "execution_count": 8,
   "metadata": {},
   "outputs": [
    {
     "name": "stdout",
     "output_type": "stream",
     "text": [
      "a) inner product between a and b = 1\n"
     ]
    }
   ],
   "source": [
    "def inner_product(a,b):\n",
    "    \"\"\"Given two vectors a and b, calculates their inner product\"\"\"\n",
    "    \n",
    "    return np.sum([a[i]*b[i] for i in range(len(a))])\n",
    "\n",
    "inner_prod = inner_product(a, b)\n",
    "assert (inner_prod == np.dot(a,b)), 'The computation does not match with results from numpy library'\n",
    "print('a) inner product between a and b =', np.dot(a,b))\n",
    "    "
   ]
  },
  {
   "cell_type": "code",
   "execution_count": 9,
   "metadata": {},
   "outputs": [
    {
     "name": "stdout",
     "output_type": "stream",
     "text": [
      "b) matrix-vector product between M and b = [-4, 0, 8]\n"
     ]
    }
   ],
   "source": [
    "def matrix_vector_product(A, b):\n",
    "    \"\"\"Given a matrix A and a vectors b, calculates the matrix vector product Ab \"\"\"\n",
    "    \n",
    "    n = len(b)\n",
    "    assert (len(A[0])== n), 'The size of matrix and vector are not compatible'\n",
    "    \n",
    "    res = []\n",
    "    for i in range(n):\n",
    "        res.append(np.sum([A[i][j]*b[j] for j in range(n)]))\n",
    "    return res\n",
    "\n",
    "matrix_vec_prod = matrix_vector_product(M, b)\n",
    "\n",
    "assert (matrix_vec_prod == np.dot(M,b)).all(), 'The computation does not match with results from numpy library'\n",
    "\n",
    "print('b) matrix-vector product between M and b =', matrix_vec_prod)\n",
    "    "
   ]
  },
  {
   "cell_type": "code",
   "execution_count": 10,
   "metadata": {},
   "outputs": [
    {
     "name": "stdout",
     "output_type": "stream",
     "text": [
      "l_2 norm of b = 5.477225575051661\n"
     ]
    }
   ],
   "source": [
    "def l_2_norm(a):\n",
    "    \"\"\"Given a vector a, calculates its l_2 norm\"\"\"\n",
    "    \n",
    "    return np.sqrt(np.sum(np.square(b)))\n",
    "l2_norm = l_2_norm(b)\n",
    "print('l_2 norm of b =', l2_norm)\n"
   ]
  },
  {
   "cell_type": "code",
   "execution_count": 11,
   "metadata": {},
   "outputs": [
    {
     "name": "stdout",
     "output_type": "stream",
     "text": [
      "\n",
      " Lower Triangular Matrix, L: \n",
      " [[ 1.          0.          0.        ]\n",
      " [-0.5         1.          0.        ]\n",
      " [ 0.         -0.66666667  1.        ]]\n",
      "\n",
      " Upper Triangular Matrix, U: \n",
      "\n",
      " [[ 2.         -1.          0.        ]\n",
      " [ 0.          1.5        -1.        ]\n",
      " [ 0.          0.          1.33333333]]\n",
      "\n",
      " The solution, x =  [1.5 4.  4.5]\n"
     ]
    }
   ],
   "source": [
    "def lu_decompisition(A):\n",
    "    \n",
    "    #Get the number of rows\n",
    "    n = A.shape[0]\n",
    "    \n",
    "    U = A.copy()\n",
    "    U = U.astype('float64')\n",
    "    L = np.eye(n, dtype=np.double)\n",
    "    \n",
    "    #Loop over rows\n",
    "    for i in range(n):\n",
    "            \n",
    "        #Eliminate entries below i with row operations \n",
    "        #on U and reverse the row operations to \n",
    "        #manipulate L\n",
    "        factor = U[i+1:, i] / U[i, i]\n",
    "        L[i+1:, i] = factor\n",
    "        U[i+1:] -= factor[:, np.newaxis] * U[i]\n",
    "        \n",
    "    return L, U\n",
    "\n",
    "def forward_sub(L, b):\n",
    "    \"\"\"Given a lower triangular matrix L and right-side vector b,\n",
    "    compute the solution vector y solving Ly = b.\"\"\"\n",
    "\n",
    "    y = []\n",
    "    for i in range(len(b)):\n",
    "        y.append(b[i])\n",
    "        for j in range(i):\n",
    "            y[i]=y[i]-(L[i, j]*y[j])\n",
    "        y[i] = y[i]/L[i, i]\n",
    "\n",
    "    return y\n",
    "\n",
    "def backward_sub(U, y):\n",
    "    \"\"\"Given a lower triangular matrix U and right-side vector y,\n",
    "    compute the solution vector x solving Ux = y.\"\"\"\n",
    "\n",
    "    x = np.zeros_like(y)\n",
    "\n",
    "    for i in range(len(x), 0, -1):\n",
    "        x[i-1] = (y[i-1] - np.dot(U[i-1, i:], x[i:])) / U[i-1, i-1]\n",
    "    return x\n",
    "\n",
    "\n",
    "\n",
    "def lu_solve(L, U, b):\n",
    "    y = forward_sub(L,b)\n",
    "    x = backward_sub(U,y)\n",
    "    return x\n",
    "\n",
    "\n",
    "def linear_solve(A, b):\n",
    "    # ...\n",
    "    L, U = lu_decompisition(A)\n",
    "    x = lu_solve(L,U,b)\n",
    "    return x\n",
    "\n",
    "L, U = lu_decompisition(M)\n",
    "print('\\n Lower Triangular Matrix, L: \\n', L)\n",
    "print('\\n Upper Triangular Matrix, U: \\n\\n', U)\n",
    "assert(np.matmul(L,U).round(decimals = 2) == M).all(), 'LU Decomposition is incorrect'\n",
    "\n",
    "res = linear_solve(M,b)\n",
    "print('\\n The solution, x = ', res)"
   ]
  },
  {
   "cell_type": "code",
   "execution_count": 12,
   "metadata": {},
   "outputs": [
    {
     "name": "stdout",
     "output_type": "stream",
     "text": [
      "\n",
      " Lower Triangular Matrix, L: \n",
      " [[ 1.41421356  0.          0.        ]\n",
      " [-0.70710678  1.22474487  0.        ]\n",
      " [ 0.         -0.81649658  1.15470054]]\n",
      "\n",
      " Upper Triangular Matrix, U: \n",
      "\n",
      " [[ 1.41421356 -0.70710678  0.        ]\n",
      " [ 0.          1.22474487 -0.81649658]\n",
      " [ 0.          0.          1.15470054]]\n",
      "\n",
      " The solution, x =  [1.5 4.  4.5]\n"
     ]
    }
   ],
   "source": [
    "def cholesky_decomposition(A):\n",
    "    \"\"\"Performs a Cholesky decomposition of A, which must \n",
    "    be a symmetric and positive definite matrix. The function\n",
    "    returns the lower variant triangular matrix, L.\"\"\"\n",
    "    n = len(A)\n",
    "\n",
    "    # Create zero matrix for L\n",
    "    L = np.array([[0.0] * n for i in range(n)])\n",
    "\n",
    "    # Perform the Cholesky decomposition\n",
    "    for i in range(n):\n",
    "        for k in range(i+1):\n",
    "            tmp_sum = sum(L[i][j] * L[k][j] for j in range(k))\n",
    "            \n",
    "            if (i == k): # Diagonal elements\n",
    "                L[i][k] = np.sqrt(A[i][i] - tmp_sum)\n",
    "            else:\n",
    "                L[i][k] = (1.0 / L[k][k] * (A[i][k] - tmp_sum))\n",
    "    return L\n",
    "\n",
    "def Cholesky_solve(A, b):\n",
    "    L = cholesky_decomposition(A)\n",
    "    L_T = np.transpose(L)\n",
    "    y = forward_sub(L,b)\n",
    "    x = backward_sub(L_T,y)\n",
    "    return x\n",
    "\n",
    "\n",
    "L_tilda = cholesky_decomposition(M)\n",
    "U_tilda = np.transpose(L_tilda)\n",
    "print('\\n Lower Triangular Matrix, L: \\n', L_tilda)\n",
    "print('\\n Upper Triangular Matrix, U: \\n\\n', U_tilda)\n",
    "\n",
    "assert(np.matmul(L_tilda,U_tilda).round(decimals = 2) == M).all(), 'Cholesky Decomposition is incorrect'\n",
    "\n",
    "res = Cholesky_solve(M,b)\n",
    "print('\\n The solution, x = ', res)\n",
    "    \n"
   ]
  },
  {
   "cell_type": "code",
   "execution_count": null,
   "metadata": {},
   "outputs": [],
   "source": []
  }
 ],
 "metadata": {
  "kernelspec": {
   "display_name": "Python 3 (ipykernel)",
   "language": "python",
   "name": "python3"
  },
  "language_info": {
   "codemirror_mode": {
    "name": "ipython",
    "version": 3
   },
   "file_extension": ".py",
   "mimetype": "text/x-python",
   "name": "python",
   "nbconvert_exporter": "python",
   "pygments_lexer": "ipython3",
   "version": "3.9.4"
  }
 },
 "nbformat": 4,
 "nbformat_minor": 4
}
